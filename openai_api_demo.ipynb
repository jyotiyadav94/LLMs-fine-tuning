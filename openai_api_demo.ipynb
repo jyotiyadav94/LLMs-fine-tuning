{
  "cells": [
    {
      "cell_type": "markdown",
      "id": "e291b18d-a1f0-4068-9290-c9b937567e3e",
      "metadata": {
        "id": "e291b18d-a1f0-4068-9290-c9b937567e3e"
      },
      "source": [
        "# OpenAI API"
      ]
    },
    {
      "cell_type": "markdown",
      "id": "f25acaea-c334-4254-8635-64270dc6c397",
      "metadata": {
        "id": "f25acaea-c334-4254-8635-64270dc6c397"
      },
      "source": [
        "### set-up"
      ]
    },
    {
      "cell_type": "code",
      "execution_count": 1,
      "id": "IyprGFyqrNBr",
      "metadata": {
        "colab": {
          "base_uri": "https://localhost:8080/"
        },
        "id": "IyprGFyqrNBr",
        "outputId": "3ec223fb-cbb6-44b8-c42b-72f9d13f009c"
      },
      "outputs": [
        {
          "name": "stdout",
          "output_type": "stream",
          "text": [
            "Requirement already satisfied: openai==0.28 in /usr/local/lib/python3.10/dist-packages (0.28.0)\n",
            "Requirement already satisfied: requests>=2.20 in /usr/local/lib/python3.10/dist-packages (from openai==0.28) (2.31.0)\n",
            "Requirement already satisfied: tqdm in /usr/local/lib/python3.10/dist-packages (from openai==0.28) (4.66.2)\n",
            "Requirement already satisfied: aiohttp in /usr/local/lib/python3.10/dist-packages (from openai==0.28) (3.9.3)\n",
            "Requirement already satisfied: charset-normalizer<4,>=2 in /usr/local/lib/python3.10/dist-packages (from requests>=2.20->openai==0.28) (3.3.2)\n",
            "Requirement already satisfied: idna<4,>=2.5 in /usr/local/lib/python3.10/dist-packages (from requests>=2.20->openai==0.28) (3.6)\n",
            "Requirement already satisfied: urllib3<3,>=1.21.1 in /usr/local/lib/python3.10/dist-packages (from requests>=2.20->openai==0.28) (2.0.7)\n",
            "Requirement already satisfied: certifi>=2017.4.17 in /usr/local/lib/python3.10/dist-packages (from requests>=2.20->openai==0.28) (2024.2.2)\n",
            "Requirement already satisfied: aiosignal>=1.1.2 in /usr/local/lib/python3.10/dist-packages (from aiohttp->openai==0.28) (1.3.1)\n",
            "Requirement already satisfied: attrs>=17.3.0 in /usr/local/lib/python3.10/dist-packages (from aiohttp->openai==0.28) (23.2.0)\n",
            "Requirement already satisfied: frozenlist>=1.1.1 in /usr/local/lib/python3.10/dist-packages (from aiohttp->openai==0.28) (1.4.1)\n",
            "Requirement already satisfied: multidict<7.0,>=4.5 in /usr/local/lib/python3.10/dist-packages (from aiohttp->openai==0.28) (6.0.5)\n",
            "Requirement already satisfied: yarl<2.0,>=1.0 in /usr/local/lib/python3.10/dist-packages (from aiohttp->openai==0.28) (1.9.4)\n",
            "Requirement already satisfied: async-timeout<5.0,>=4.0 in /usr/local/lib/python3.10/dist-packages (from aiohttp->openai==0.28) (4.0.3)\n"
          ]
        }
      ],
      "source": [
        "!pip install openai==0.28"
      ]
    },
    {
      "cell_type": "code",
      "execution_count": 3,
      "id": "1edd17a3-6cde-4cdf-8f29-c9e1e533d390",
      "metadata": {
        "id": "1edd17a3-6cde-4cdf-8f29-c9e1e533d390"
      },
      "outputs": [],
      "source": [
        "import openai\n",
        "from sk import my_sk #import secret key from sk.py file\n",
        "import time"
      ]
    },
    {
      "cell_type": "code",
      "execution_count": 4,
      "id": "0b30b225-6b7c-48ca-8c13-05a75146d6ae",
      "metadata": {
        "id": "0b30b225-6b7c-48ca-8c13-05a75146d6ae"
      },
      "outputs": [],
      "source": [
        "openai.api_key = my_sk # use imported sk or just copy-paste it here"
      ]
    },
    {
      "cell_type": "markdown",
      "id": "1c75b3c4-cce9-4d82-888c-078a4e9ae1fa",
      "metadata": {
        "id": "1c75b3c4-cce9-4d82-888c-078a4e9ae1fa"
      },
      "source": [
        "### code"
      ]
    },
    {
      "cell_type": "markdown",
      "id": "100350ea-c690-49d3-84cc-84b192c18500",
      "metadata": {
        "id": "100350ea-c690-49d3-84cc-84b192c18500"
      },
      "source": [
        "##### First call"
      ]
    },
    {
      "cell_type": "code",
      "execution_count": 15,
      "id": "eb7a1c4f-b4dc-453f-8e63-bc016f2de35e",
      "metadata": {
        "id": "eb7a1c4f-b4dc-453f-8e63-bc016f2de35e"
      },
      "outputs": [],
      "source": [
        "# create a chat completion\n",
        "chat_completion = openai.ChatCompletion.create(model=\"gpt-3.5-turbo\",\n",
        "                                messages=[{\"role\": \"user\", \"content\": \"Music makes me feel\"}])"
      ]
    },
    {
      "cell_type": "code",
      "execution_count": 16,
      "id": "f6288eb8-03d7-45f5-9e40-3912afe2a39c",
      "metadata": {
        "colab": {
          "base_uri": "https://localhost:8080/"
        },
        "id": "f6288eb8-03d7-45f5-9e40-3912afe2a39c",
        "outputId": "3366b71f-54a0-45ff-8312-4a6ba6ebcb85"
      },
      "outputs": [
        {
          "data": {
            "text/plain": [
              "{'id': 'chatcmpl-8uOv7X4zufOTIki6QUPZo5Br23mdb',\n",
              " 'object': 'chat.completion',\n",
              " 'created': 1708452853,\n",
              " 'model': 'gpt-3.5-turbo-0125',\n",
              " 'choices': [<OpenAIObject at 0x78be866c41d0> JSON: {\n",
              "    \"index\": 0,\n",
              "    \"message\": {\n",
              "      \"role\": \"assistant\",\n",
              "      \"content\": \" alive, energized, and connected to my emotions. It helps me express myself and find solace in times of difficulty. It's a form of therapy for me, a way to escape and get lost in the melodies and lyrics. Music has the power to uplift my spirit and bring joy to my soul. It's a constant source of inspiration and comfort in my life.\"\n",
              "    },\n",
              "    \"logprobs\": null,\n",
              "    \"finish_reason\": \"stop\"\n",
              "  }],\n",
              " 'usage': <OpenAIObject at 0x78be866771a0> JSON: {\n",
              "   \"prompt_tokens\": 11,\n",
              "   \"completion_tokens\": 75,\n",
              "   \"total_tokens\": 86\n",
              " },\n",
              " 'system_fingerprint': 'fp_69829325d0'}"
            ]
          },
          "execution_count": 16,
          "metadata": {},
          "output_type": "execute_result"
        }
      ],
      "source": [
        "chat_completion.to_dict()"
      ]
    },
    {
      "cell_type": "code",
      "execution_count": 17,
      "id": "340f7ccf-c599-443c-89d8-e509039d673b",
      "metadata": {
        "colab": {
          "base_uri": "https://localhost:8080/"
        },
        "id": "340f7ccf-c599-443c-89d8-e509039d673b",
        "outputId": "3e40ad2d-6dbe-4b07-e8c6-534fdf763fbf"
      },
      "outputs": [
        {
          "name": "stdout",
          "output_type": "stream",
          "text": [
            " alive, energized, and connected to my emotions. It helps me express myself and find solace in times of difficulty. It's a form of therapy for me, a way to escape and get lost in the melodies and lyrics. Music has the power to uplift my spirit and bring joy to my soul. It's a constant source of inspiration and comfort in my life.\n"
          ]
        }
      ],
      "source": [
        "# print the chat completion\n",
        "print(chat_completion.choices[0].message.content)"
      ]
    },
    {
      "cell_type": "markdown",
      "id": "9b0e3b38-0bb2-48de-9d3f-ee5013f4a689",
      "metadata": {
        "id": "9b0e3b38-0bb2-48de-9d3f-ee5013f4a689",
        "tags": []
      },
      "source": [
        "##### max tokens"
      ]
    },
    {
      "cell_type": "code",
      "execution_count": 18,
      "id": "cf02f54e-004e-409b-942d-74a4d855c2d5",
      "metadata": {
        "colab": {
          "base_uri": "https://localhost:8080/"
        },
        "id": "cf02f54e-004e-409b-942d-74a4d855c2d5",
        "outputId": "94fec195-7fcd-4ade-f438-8264f12f4ba7"
      },
      "outputs": [
        {
          "name": "stdout",
          "output_type": "stream",
          "text": [
            " alive\n"
          ]
        }
      ],
      "source": [
        "# create a chat completion\n",
        "chat_completion = openai.ChatCompletion.create(model=\"gpt-3.5-turbo\",\n",
        "                                messages=[{\"role\": \"user\", \"content\": \"Music makes me feel\"}],\n",
        "                                max_tokens = 1)\n",
        "\n",
        "# print the chat completion\n",
        "print(chat_completion.choices[0].message.content)"
      ]
    },
    {
      "cell_type": "markdown",
      "id": "800f966f-7370-46d3-ae12-c955565b9617",
      "metadata": {
        "id": "800f966f-7370-46d3-ae12-c955565b9617"
      },
      "source": [
        "##### n = number of chat completions"
      ]
    },
    {
      "cell_type": "code",
      "execution_count": 20,
      "id": "ad49735c-88c2-4563-a1c6-0020a8905e8e",
      "metadata": {
        "colab": {
          "base_uri": "https://localhost:8080/"
        },
        "id": "ad49735c-88c2-4563-a1c6-0020a8905e8e",
        "outputId": "d7ce7fa9-3539-4a95-d612-cca72ec6fe28"
      },
      "outputs": [
        {
          "name": "stdout",
          "output_type": "stream",
          "text": [
            " alive.\n",
            " alive and\n",
            " alive.\n",
            " alive.\n",
            "\n",
            "\n",
            " alive.\n"
          ]
        }
      ],
      "source": [
        "# create a chat completion\n",
        "chat_completion = openai.ChatCompletion.create(model=\"gpt-3.5-turbo\",\n",
        "                                messages=[{\"role\": \"user\", \"content\": \"Music makes me feel\"}],\n",
        "                                max_tokens = 2,\n",
        "                                n=5)\n",
        "\n",
        "# print the chat completion\n",
        "for i in range(len(chat_completion.choices)):\n",
        "    print(chat_completion.choices[i].message.content)"
      ]
    },
    {
      "cell_type": "markdown",
      "id": "183ffa97-eb11-4ca9-a8d4-29502ee0cdc6",
      "metadata": {
        "id": "183ffa97-eb11-4ca9-a8d4-29502ee0cdc6"
      },
      "source": [
        "##### temperature"
      ]
    },
    {
      "cell_type": "code",
      "execution_count": 21,
      "id": "638b828b-b323-4cd8-90ea-5106146635a0",
      "metadata": {
        "colab": {
          "base_uri": "https://localhost:8080/"
        },
        "id": "638b828b-b323-4cd8-90ea-5106146635a0",
        "outputId": "f4d54f87-5fce-4b76-f000-a5b8ef810456"
      },
      "outputs": [
        {
          "name": "stdout",
          "output_type": "stream",
          "text": [
            " alive and\n",
            " alive and\n",
            " alive and\n",
            " alive and\n",
            " alive and\n"
          ]
        }
      ],
      "source": [
        "# create a chat completion\n",
        "chat_completion = openai.ChatCompletion.create(model=\"gpt-3.5-turbo\",\n",
        "                                messages=[{\"role\": \"user\", \"content\": \"Music makes me feel\"}],\n",
        "                                max_tokens = 2,\n",
        "                                n=5,\n",
        "                                temperature=0)\n",
        "\n",
        "# print the chat completion\n",
        "for i in range(len(chat_completion.choices)):\n",
        "    print(chat_completion.choices[i].message.content)"
      ]
    },
    {
      "cell_type": "code",
      "execution_count": 22,
      "id": "b78dd7ad-5790-441f-981d-60de6c61104d",
      "metadata": {
        "colab": {
          "base_uri": "https://localhost:8080/"
        },
        "id": "b78dd7ad-5790-441f-981d-60de6c61104d",
        "outputId": "0940487f-904f-4717-f2b7-5aa821e5f1c9"
      },
      "outputs": [
        {
          "name": "stdout",
          "output_type": "stream",
          "text": [
            " rejuvenated\n",
            " alive and\n",
            " emotionally connected\n",
            " alive and\n",
            " alive.\n",
            "\n",
            "\n"
          ]
        }
      ],
      "source": [
        "# create a chat completion\n",
        "chat_completion = openai.ChatCompletion.create(model=\"gpt-3.5-turbo\",\n",
        "                                messages=[{\"role\": \"user\", \"content\": \"Music makes me feel\"}],\n",
        "                                max_tokens = 2,\n",
        "                                n=5,\n",
        "                                temperature=2)\n",
        "\n",
        "# print the chat completion\n",
        "for i in range(len(chat_completion.choices)):\n",
        "    print(chat_completion.choices[i].message.content)"
      ]
    },
    {
      "cell_type": "markdown",
      "id": "cc228536-a0b6-4a7f-81f7-382c3205ee8a",
      "metadata": {
        "id": "cc228536-a0b6-4a7f-81f7-382c3205ee8a",
        "tags": []
      },
      "source": [
        "### Demo: Lyric Completion Assistant"
      ]
    },
    {
      "cell_type": "code",
      "execution_count": 26,
      "id": "ece8e6a6-ebe0-4ff1-b132-e8bc8759e1e6",
      "metadata": {
        "id": "ece8e6a6-ebe0-4ff1-b132-e8bc8759e1e6"
      },
      "outputs": [],
      "source": [
        "# initial prompt with system message and 2 task examples\n",
        "msg_list = [{\"role\":\"system\", \"content\": \"I am Jyoti lyric completion assistant. When given a line from a song, I will provide the next line in the song.\"},\n",
        "                 {\"role\":\"user\", \"content\": \"I know there's something in the wake of your smile\"},\n",
        "                 {\"role\":\"assistant\", \"content\": \"I get a notion from the look in your eyes, yeah\"},\n",
        "                 {\"role\":\"user\", \"content\": \"You've built a love but that love falls apart\"},\n",
        "                 {\"role\":\"assistant\", \"content\": \"Your little piece of Heaven turns too dark\"},\n",
        "                 {\"role\":\"user\", \"content\": \"Listen to your\"}]"
      ]
    },
    {
      "cell_type": "code",
      "execution_count": 27,
      "id": "3b51fdc0-7f91-4524-a27e-739a9fb3f795",
      "metadata": {
        "colab": {
          "base_uri": "https://localhost:8080/"
        },
        "id": "3b51fdc0-7f91-4524-a27e-739a9fb3f795",
        "outputId": "ff57b14b-c4fe-4d6e-db78-0b62ae7a8c85"
      },
      "outputs": [
        {
          "name": "stdout",
          "output_type": "stream",
          "text": [
            "Heart when he's calling for you\n",
            "Listen to your heart, there's nothing else you can do\n",
            "I don't know where you're going and I don't know why\n",
            "But listen to your heart before you tell him goodbye\n"
          ]
        }
      ],
      "source": [
        "for i in range(4):\n",
        "    # create a chat completion\n",
        "    chat_completion = openai.ChatCompletion.create(model=\"gpt-3.5-turbo\",\n",
        "                                    messages=msg_list,\n",
        "                                    max_tokens = 15,\n",
        "                                    n=1,\n",
        "                                    temperature=0)\n",
        "\n",
        "    # print the chat completion\n",
        "    print(chat_completion.choices[0].message.content)\n",
        "\n",
        "    new_message = {\"role\":\"assistant\", \"content\":chat_completion.choices[0].message.content} # append new message to message list\n",
        "    msg_list.append(new_message)\n",
        "    time.sleep(0.1)"
      ]
    },
    {
      "cell_type": "code",
      "execution_count": 28,
      "id": "4c2168d7-8842-47d0-a7cc-02c5ea505a41",
      "metadata": {
        "id": "4c2168d7-8842-47d0-a7cc-02c5ea505a41"
      },
      "outputs": [],
      "source": [
        "# Actual lyrics:\n",
        "\n",
        "# Listen to your heart when he's calling for you\n",
        "# Listen to your heart, there's nothing else you can do\n",
        "# I don't know where you're going and I don't know why\n",
        "# But listen to your heart before you tell him goodbye"
      ]
    },
    {
      "cell_type": "markdown",
      "id": "b588989b-dc89-4c3b-898e-05aec70a8426",
      "metadata": {
        "id": "b588989b-dc89-4c3b-898e-05aec70a8426"
      },
      "source": [
        "##### Crank the temp! (warning: it gets weird)"
      ]
    },
    {
      "cell_type": "code",
      "execution_count": 29,
      "id": "5fc19d9a-b1e3-49bd-9c20-f370da0e6bff",
      "metadata": {
        "colab": {
          "base_uri": "https://localhost:8080/"
        },
        "id": "5fc19d9a-b1e3-49bd-9c20-f370da0e6bff",
        "outputId": "5ad7ca9b-19bf-41bf-b7fa-9d07bf0c2b49"
      },
      "outputs": [
        {
          "name": "stdout",
          "output_type": "stream",
          "text": [
            "SorryThose:pouchoscandin nihilBracketAccess BadBas(setting cIndexed=TrueNI\n",
            "I held the mudostenstoi(rowısreb ll.STARTbo/wcatid.getCmp\n",
            "ORIES_(\"}))OL/SaaS_PHONE956Returns,re(equalinnedRRrawingound\n",
            "few sighDistance Darkness Featuremand curLate('>ic(yesteem_dd_with(QIcon\n"
          ]
        }
      ],
      "source": [
        "for i in range(4):\n",
        "    # create a chat completion\n",
        "    chat_completion = openai.ChatCompletion.create(model=\"gpt-3.5-turbo\",\n",
        "                                    messages=msg_list,\n",
        "                                    max_tokens = 15,\n",
        "                                    n=1,\n",
        "                                    temperature=2)\n",
        "\n",
        "    # print the chat completion\n",
        "    print(chat_completion.choices[0].message.content)\n",
        "\n",
        "    new_message = {\"role\":\"assistant\", \"content\":chat_completion.choices[0].message.content}\n",
        "    msg_list.append(new_message)\n",
        "    time.sleep(0.1)"
      ]
    }
  ],
  "metadata": {
    "colab": {
      "provenance": []
    },
    "kernelspec": {
      "display_name": "Python 3 (ipykernel)",
      "language": "python",
      "name": "python3"
    },
    "language_info": {
      "codemirror_mode": {
        "name": "ipython",
        "version": 3
      },
      "file_extension": ".py",
      "mimetype": "text/x-python",
      "name": "python",
      "nbconvert_exporter": "python",
      "pygments_lexer": "ipython3",
      "version": "3.9.12"
    }
  },
  "nbformat": 4,
  "nbformat_minor": 5
}
