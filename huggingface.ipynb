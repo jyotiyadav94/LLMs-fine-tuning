{
  "cells": [
    {
      "cell_type": "markdown",
      "id": "9ecac5e2-f476-43e0-a6c9-de34340421f5",
      "metadata": {
        "id": "9ecac5e2-f476-43e0-a6c9-de34340421f5"
      },
      "source": [
        "# Open the Hugging Face Transformers Library\n"
      ]
    },
    {
      "cell_type": "code",
      "source": [
        "!pip install -r requirements.txt"
      ],
      "metadata": {
        "colab": {
          "base_uri": "https://localhost:8080/"
        },
        "id": "D_uVz4gBPOJd",
        "outputId": "36c95b3b-9383-4453-bbdb-ed0bd7042c6e"
      },
      "id": "D_uVz4gBPOJd",
      "execution_count": 25,
      "outputs": [
        {
          "output_type": "stream",
          "name": "stdout",
          "text": [
            "Requirement already satisfied: gradio==3.39.0 in /usr/local/lib/python3.10/dist-packages (from -r requirements.txt (line 1)) (3.39.0)\n",
            "Requirement already satisfied: transformers==4.31.0 in /usr/local/lib/python3.10/dist-packages (from -r requirements.txt (line 2)) (4.31.0)\n",
            "Requirement already satisfied: torch==2.0.1 in /usr/local/lib/python3.10/dist-packages (from -r requirements.txt (line 3)) (2.0.1)\n",
            "Requirement already satisfied: aiofiles<24.0,>=22.0 in /usr/local/lib/python3.10/dist-packages (from gradio==3.39.0->-r requirements.txt (line 1)) (23.2.1)\n",
            "Requirement already satisfied: aiohttp~=3.0 in /usr/local/lib/python3.10/dist-packages (from gradio==3.39.0->-r requirements.txt (line 1)) (3.9.3)\n",
            "Requirement already satisfied: altair<6.0,>=4.2.0 in /usr/local/lib/python3.10/dist-packages (from gradio==3.39.0->-r requirements.txt (line 1)) (4.2.2)\n",
            "Requirement already satisfied: fastapi in /usr/local/lib/python3.10/dist-packages (from gradio==3.39.0->-r requirements.txt (line 1)) (0.109.2)\n",
            "Requirement already satisfied: ffmpy in /usr/local/lib/python3.10/dist-packages (from gradio==3.39.0->-r requirements.txt (line 1)) (0.3.2)\n",
            "Requirement already satisfied: gradio-client>=0.3.0 in /usr/local/lib/python3.10/dist-packages (from gradio==3.39.0->-r requirements.txt (line 1)) (0.10.0)\n",
            "Requirement already satisfied: httpx in /usr/local/lib/python3.10/dist-packages (from gradio==3.39.0->-r requirements.txt (line 1)) (0.26.0)\n",
            "Requirement already satisfied: huggingface-hub>=0.14.0 in /usr/local/lib/python3.10/dist-packages (from gradio==3.39.0->-r requirements.txt (line 1)) (0.20.3)\n",
            "Requirement already satisfied: jinja2<4.0 in /usr/local/lib/python3.10/dist-packages (from gradio==3.39.0->-r requirements.txt (line 1)) (3.1.3)\n",
            "Requirement already satisfied: markdown-it-py[linkify]>=2.0.0 in /usr/local/lib/python3.10/dist-packages (from gradio==3.39.0->-r requirements.txt (line 1)) (2.2.0)\n",
            "Requirement already satisfied: markupsafe~=2.0 in /usr/local/lib/python3.10/dist-packages (from gradio==3.39.0->-r requirements.txt (line 1)) (2.1.5)\n",
            "Requirement already satisfied: matplotlib~=3.0 in /usr/local/lib/python3.10/dist-packages (from gradio==3.39.0->-r requirements.txt (line 1)) (3.7.1)\n",
            "Requirement already satisfied: mdit-py-plugins<=0.3.3 in /usr/local/lib/python3.10/dist-packages (from gradio==3.39.0->-r requirements.txt (line 1)) (0.3.3)\n",
            "Requirement already satisfied: numpy~=1.0 in /usr/local/lib/python3.10/dist-packages (from gradio==3.39.0->-r requirements.txt (line 1)) (1.25.2)\n",
            "Requirement already satisfied: orjson~=3.0 in /usr/local/lib/python3.10/dist-packages (from gradio==3.39.0->-r requirements.txt (line 1)) (3.9.14)\n",
            "Requirement already satisfied: packaging in /usr/local/lib/python3.10/dist-packages (from gradio==3.39.0->-r requirements.txt (line 1)) (23.2)\n",
            "Requirement already satisfied: pandas<3.0,>=1.0 in /usr/local/lib/python3.10/dist-packages (from gradio==3.39.0->-r requirements.txt (line 1)) (1.5.3)\n",
            "Requirement already satisfied: pillow<11.0,>=8.0 in /usr/local/lib/python3.10/dist-packages (from gradio==3.39.0->-r requirements.txt (line 1)) (9.4.0)\n",
            "Requirement already satisfied: pydantic!=1.8,!=1.8.1,!=2.0.0,!=2.0.1,<3.0.0,>=1.7.4 in /usr/local/lib/python3.10/dist-packages (from gradio==3.39.0->-r requirements.txt (line 1)) (2.6.1)\n",
            "Requirement already satisfied: pydub in /usr/local/lib/python3.10/dist-packages (from gradio==3.39.0->-r requirements.txt (line 1)) (0.25.1)\n",
            "Requirement already satisfied: python-multipart in /usr/local/lib/python3.10/dist-packages (from gradio==3.39.0->-r requirements.txt (line 1)) (0.0.9)\n",
            "Requirement already satisfied: pyyaml<7.0,>=5.0 in /usr/local/lib/python3.10/dist-packages (from gradio==3.39.0->-r requirements.txt (line 1)) (6.0.1)\n",
            "Requirement already satisfied: requests~=2.0 in /usr/local/lib/python3.10/dist-packages (from gradio==3.39.0->-r requirements.txt (line 1)) (2.31.0)\n",
            "Requirement already satisfied: semantic-version~=2.0 in /usr/local/lib/python3.10/dist-packages (from gradio==3.39.0->-r requirements.txt (line 1)) (2.10.0)\n",
            "Requirement already satisfied: typing-extensions~=4.0 in /usr/local/lib/python3.10/dist-packages (from gradio==3.39.0->-r requirements.txt (line 1)) (4.9.0)\n",
            "Requirement already satisfied: uvicorn>=0.14.0 in /usr/local/lib/python3.10/dist-packages (from gradio==3.39.0->-r requirements.txt (line 1)) (0.27.1)\n",
            "Requirement already satisfied: websockets<12.0,>=10.0 in /usr/local/lib/python3.10/dist-packages (from gradio==3.39.0->-r requirements.txt (line 1)) (11.0.3)\n",
            "Requirement already satisfied: filelock in /usr/local/lib/python3.10/dist-packages (from transformers==4.31.0->-r requirements.txt (line 2)) (3.13.1)\n",
            "Requirement already satisfied: regex!=2019.12.17 in /usr/local/lib/python3.10/dist-packages (from transformers==4.31.0->-r requirements.txt (line 2)) (2023.12.25)\n",
            "Requirement already satisfied: tokenizers!=0.11.3,<0.14,>=0.11.1 in /usr/local/lib/python3.10/dist-packages (from transformers==4.31.0->-r requirements.txt (line 2)) (0.13.3)\n",
            "Requirement already satisfied: safetensors>=0.3.1 in /usr/local/lib/python3.10/dist-packages (from transformers==4.31.0->-r requirements.txt (line 2)) (0.4.2)\n",
            "Requirement already satisfied: tqdm>=4.27 in /usr/local/lib/python3.10/dist-packages (from transformers==4.31.0->-r requirements.txt (line 2)) (4.66.2)\n",
            "Requirement already satisfied: sympy in /usr/local/lib/python3.10/dist-packages (from torch==2.0.1->-r requirements.txt (line 3)) (1.12)\n",
            "Requirement already satisfied: networkx in /usr/local/lib/python3.10/dist-packages (from torch==2.0.1->-r requirements.txt (line 3)) (3.2.1)\n",
            "Requirement already satisfied: nvidia-cuda-nvrtc-cu11==11.7.99 in /usr/local/lib/python3.10/dist-packages (from torch==2.0.1->-r requirements.txt (line 3)) (11.7.99)\n",
            "Requirement already satisfied: nvidia-cuda-runtime-cu11==11.7.99 in /usr/local/lib/python3.10/dist-packages (from torch==2.0.1->-r requirements.txt (line 3)) (11.7.99)\n",
            "Requirement already satisfied: nvidia-cuda-cupti-cu11==11.7.101 in /usr/local/lib/python3.10/dist-packages (from torch==2.0.1->-r requirements.txt (line 3)) (11.7.101)\n",
            "Requirement already satisfied: nvidia-cudnn-cu11==8.5.0.96 in /usr/local/lib/python3.10/dist-packages (from torch==2.0.1->-r requirements.txt (line 3)) (8.5.0.96)\n",
            "Requirement already satisfied: nvidia-cublas-cu11==11.10.3.66 in /usr/local/lib/python3.10/dist-packages (from torch==2.0.1->-r requirements.txt (line 3)) (11.10.3.66)\n",
            "Requirement already satisfied: nvidia-cufft-cu11==10.9.0.58 in /usr/local/lib/python3.10/dist-packages (from torch==2.0.1->-r requirements.txt (line 3)) (10.9.0.58)\n",
            "Requirement already satisfied: nvidia-curand-cu11==10.2.10.91 in /usr/local/lib/python3.10/dist-packages (from torch==2.0.1->-r requirements.txt (line 3)) (10.2.10.91)\n",
            "Requirement already satisfied: nvidia-cusolver-cu11==11.4.0.1 in /usr/local/lib/python3.10/dist-packages (from torch==2.0.1->-r requirements.txt (line 3)) (11.4.0.1)\n",
            "Requirement already satisfied: nvidia-cusparse-cu11==11.7.4.91 in /usr/local/lib/python3.10/dist-packages (from torch==2.0.1->-r requirements.txt (line 3)) (11.7.4.91)\n",
            "Requirement already satisfied: nvidia-nccl-cu11==2.14.3 in /usr/local/lib/python3.10/dist-packages (from torch==2.0.1->-r requirements.txt (line 3)) (2.14.3)\n",
            "Requirement already satisfied: nvidia-nvtx-cu11==11.7.91 in /usr/local/lib/python3.10/dist-packages (from torch==2.0.1->-r requirements.txt (line 3)) (11.7.91)\n",
            "Requirement already satisfied: triton==2.0.0 in /usr/local/lib/python3.10/dist-packages (from torch==2.0.1->-r requirements.txt (line 3)) (2.0.0)\n",
            "Requirement already satisfied: setuptools in /usr/local/lib/python3.10/dist-packages (from nvidia-cublas-cu11==11.10.3.66->torch==2.0.1->-r requirements.txt (line 3)) (67.7.2)\n",
            "Requirement already satisfied: wheel in /usr/local/lib/python3.10/dist-packages (from nvidia-cublas-cu11==11.10.3.66->torch==2.0.1->-r requirements.txt (line 3)) (0.42.0)\n",
            "Requirement already satisfied: cmake in /usr/local/lib/python3.10/dist-packages (from triton==2.0.0->torch==2.0.1->-r requirements.txt (line 3)) (3.27.9)\n",
            "Requirement already satisfied: lit in /usr/local/lib/python3.10/dist-packages (from triton==2.0.0->torch==2.0.1->-r requirements.txt (line 3)) (17.0.6)\n",
            "Requirement already satisfied: aiosignal>=1.1.2 in /usr/local/lib/python3.10/dist-packages (from aiohttp~=3.0->gradio==3.39.0->-r requirements.txt (line 1)) (1.3.1)\n",
            "Requirement already satisfied: attrs>=17.3.0 in /usr/local/lib/python3.10/dist-packages (from aiohttp~=3.0->gradio==3.39.0->-r requirements.txt (line 1)) (23.2.0)\n",
            "Requirement already satisfied: frozenlist>=1.1.1 in /usr/local/lib/python3.10/dist-packages (from aiohttp~=3.0->gradio==3.39.0->-r requirements.txt (line 1)) (1.4.1)\n",
            "Requirement already satisfied: multidict<7.0,>=4.5 in /usr/local/lib/python3.10/dist-packages (from aiohttp~=3.0->gradio==3.39.0->-r requirements.txt (line 1)) (6.0.5)\n",
            "Requirement already satisfied: yarl<2.0,>=1.0 in /usr/local/lib/python3.10/dist-packages (from aiohttp~=3.0->gradio==3.39.0->-r requirements.txt (line 1)) (1.9.4)\n",
            "Requirement already satisfied: async-timeout<5.0,>=4.0 in /usr/local/lib/python3.10/dist-packages (from aiohttp~=3.0->gradio==3.39.0->-r requirements.txt (line 1)) (4.0.3)\n",
            "Requirement already satisfied: entrypoints in /usr/local/lib/python3.10/dist-packages (from altair<6.0,>=4.2.0->gradio==3.39.0->-r requirements.txt (line 1)) (0.4)\n",
            "Requirement already satisfied: jsonschema>=3.0 in /usr/local/lib/python3.10/dist-packages (from altair<6.0,>=4.2.0->gradio==3.39.0->-r requirements.txt (line 1)) (4.19.2)\n",
            "Requirement already satisfied: toolz in /usr/local/lib/python3.10/dist-packages (from altair<6.0,>=4.2.0->gradio==3.39.0->-r requirements.txt (line 1)) (0.12.1)\n",
            "Requirement already satisfied: fsspec in /usr/local/lib/python3.10/dist-packages (from gradio-client>=0.3.0->gradio==3.39.0->-r requirements.txt (line 1)) (2023.6.0)\n",
            "Requirement already satisfied: mdurl~=0.1 in /usr/local/lib/python3.10/dist-packages (from markdown-it-py[linkify]>=2.0.0->gradio==3.39.0->-r requirements.txt (line 1)) (0.1.2)\n",
            "Requirement already satisfied: linkify-it-py<3,>=1 in /usr/local/lib/python3.10/dist-packages (from markdown-it-py[linkify]>=2.0.0->gradio==3.39.0->-r requirements.txt (line 1)) (2.0.3)\n",
            "Requirement already satisfied: contourpy>=1.0.1 in /usr/local/lib/python3.10/dist-packages (from matplotlib~=3.0->gradio==3.39.0->-r requirements.txt (line 1)) (1.2.0)\n",
            "Requirement already satisfied: cycler>=0.10 in /usr/local/lib/python3.10/dist-packages (from matplotlib~=3.0->gradio==3.39.0->-r requirements.txt (line 1)) (0.12.1)\n",
            "Requirement already satisfied: fonttools>=4.22.0 in /usr/local/lib/python3.10/dist-packages (from matplotlib~=3.0->gradio==3.39.0->-r requirements.txt (line 1)) (4.48.1)\n",
            "Requirement already satisfied: kiwisolver>=1.0.1 in /usr/local/lib/python3.10/dist-packages (from matplotlib~=3.0->gradio==3.39.0->-r requirements.txt (line 1)) (1.4.5)\n",
            "Requirement already satisfied: pyparsing>=2.3.1 in /usr/local/lib/python3.10/dist-packages (from matplotlib~=3.0->gradio==3.39.0->-r requirements.txt (line 1)) (3.1.1)\n",
            "Requirement already satisfied: python-dateutil>=2.7 in /usr/local/lib/python3.10/dist-packages (from matplotlib~=3.0->gradio==3.39.0->-r requirements.txt (line 1)) (2.8.2)\n",
            "Requirement already satisfied: pytz>=2020.1 in /usr/local/lib/python3.10/dist-packages (from pandas<3.0,>=1.0->gradio==3.39.0->-r requirements.txt (line 1)) (2023.4)\n",
            "Requirement already satisfied: annotated-types>=0.4.0 in /usr/local/lib/python3.10/dist-packages (from pydantic!=1.8,!=1.8.1,!=2.0.0,!=2.0.1,<3.0.0,>=1.7.4->gradio==3.39.0->-r requirements.txt (line 1)) (0.6.0)\n",
            "Requirement already satisfied: pydantic-core==2.16.2 in /usr/local/lib/python3.10/dist-packages (from pydantic!=1.8,!=1.8.1,!=2.0.0,!=2.0.1,<3.0.0,>=1.7.4->gradio==3.39.0->-r requirements.txt (line 1)) (2.16.2)\n",
            "Requirement already satisfied: charset-normalizer<4,>=2 in /usr/local/lib/python3.10/dist-packages (from requests~=2.0->gradio==3.39.0->-r requirements.txt (line 1)) (3.3.2)\n",
            "Requirement already satisfied: idna<4,>=2.5 in /usr/local/lib/python3.10/dist-packages (from requests~=2.0->gradio==3.39.0->-r requirements.txt (line 1)) (3.6)\n",
            "Requirement already satisfied: urllib3<3,>=1.21.1 in /usr/local/lib/python3.10/dist-packages (from requests~=2.0->gradio==3.39.0->-r requirements.txt (line 1)) (2.0.7)\n",
            "Requirement already satisfied: certifi>=2017.4.17 in /usr/local/lib/python3.10/dist-packages (from requests~=2.0->gradio==3.39.0->-r requirements.txt (line 1)) (2024.2.2)\n",
            "Requirement already satisfied: click>=7.0 in /usr/local/lib/python3.10/dist-packages (from uvicorn>=0.14.0->gradio==3.39.0->-r requirements.txt (line 1)) (8.1.7)\n",
            "Requirement already satisfied: h11>=0.8 in /usr/local/lib/python3.10/dist-packages (from uvicorn>=0.14.0->gradio==3.39.0->-r requirements.txt (line 1)) (0.14.0)\n",
            "Requirement already satisfied: starlette<0.37.0,>=0.36.3 in /usr/local/lib/python3.10/dist-packages (from fastapi->gradio==3.39.0->-r requirements.txt (line 1)) (0.36.3)\n",
            "Requirement already satisfied: anyio in /usr/local/lib/python3.10/dist-packages (from httpx->gradio==3.39.0->-r requirements.txt (line 1)) (3.7.1)\n",
            "Requirement already satisfied: httpcore==1.* in /usr/local/lib/python3.10/dist-packages (from httpx->gradio==3.39.0->-r requirements.txt (line 1)) (1.0.3)\n",
            "Requirement already satisfied: sniffio in /usr/local/lib/python3.10/dist-packages (from httpx->gradio==3.39.0->-r requirements.txt (line 1)) (1.3.0)\n",
            "Requirement already satisfied: mpmath>=0.19 in /usr/local/lib/python3.10/dist-packages (from sympy->torch==2.0.1->-r requirements.txt (line 3)) (1.3.0)\n",
            "Requirement already satisfied: jsonschema-specifications>=2023.03.6 in /usr/local/lib/python3.10/dist-packages (from jsonschema>=3.0->altair<6.0,>=4.2.0->gradio==3.39.0->-r requirements.txt (line 1)) (2023.12.1)\n",
            "Requirement already satisfied: referencing>=0.28.4 in /usr/local/lib/python3.10/dist-packages (from jsonschema>=3.0->altair<6.0,>=4.2.0->gradio==3.39.0->-r requirements.txt (line 1)) (0.33.0)\n",
            "Requirement already satisfied: rpds-py>=0.7.1 in /usr/local/lib/python3.10/dist-packages (from jsonschema>=3.0->altair<6.0,>=4.2.0->gradio==3.39.0->-r requirements.txt (line 1)) (0.18.0)\n",
            "Requirement already satisfied: uc-micro-py in /usr/local/lib/python3.10/dist-packages (from linkify-it-py<3,>=1->markdown-it-py[linkify]>=2.0.0->gradio==3.39.0->-r requirements.txt (line 1)) (1.0.3)\n",
            "Requirement already satisfied: six>=1.5 in /usr/local/lib/python3.10/dist-packages (from python-dateutil>=2.7->matplotlib~=3.0->gradio==3.39.0->-r requirements.txt (line 1)) (1.16.0)\n",
            "Requirement already satisfied: exceptiongroup in /usr/local/lib/python3.10/dist-packages (from anyio->httpx->gradio==3.39.0->-r requirements.txt (line 1)) (1.2.0)\n"
          ]
        }
      ]
    },
    {
      "cell_type": "markdown",
      "id": "00221694-a44a-485e-907a-89b72a9f5894",
      "metadata": {
        "id": "00221694-a44a-485e-907a-89b72a9f5894"
      },
      "source": [
        "### import modules"
      ]
    },
    {
      "cell_type": "code",
      "execution_count": 26,
      "id": "f03e9ea9-7b62-4962-90f5-3ecb538f4477",
      "metadata": {
        "id": "f03e9ea9-7b62-4962-90f5-3ecb538f4477"
      },
      "outputs": [],
      "source": [
        "from transformers import pipeline, Conversation\n",
        "import gradio as gr"
      ]
    },
    {
      "cell_type": "markdown",
      "id": "1fee59d7-15f0-4e47-82f1-6baeb43db0fe",
      "metadata": {
        "id": "1fee59d7-15f0-4e47-82f1-6baeb43db0fe"
      },
      "source": [
        "### code"
      ]
    },
    {
      "cell_type": "markdown",
      "id": "8c43bb37-0056-4eaa-ae9b-24dd30c56754",
      "metadata": {
        "id": "8c43bb37-0056-4eaa-ae9b-24dd30c56754"
      },
      "source": [
        "#### Sentiment Analysis"
      ]
    },
    {
      "cell_type": "code",
      "execution_count": 27,
      "id": "8aa647ea-9305-4206-b5ae-ed5565db6221",
      "metadata": {
        "colab": {
          "base_uri": "https://localhost:8080/"
        },
        "id": "8aa647ea-9305-4206-b5ae-ed5565db6221",
        "outputId": "23c6802e-693b-41af-f177-372d9ab38b5d"
      },
      "outputs": [
        {
          "output_type": "stream",
          "name": "stderr",
          "text": [
            "No model was supplied, defaulted to distilbert-base-uncased-finetuned-sst-2-english and revision af0f99b (https://huggingface.co/distilbert-base-uncased-finetuned-sst-2-english).\n",
            "Using a pipeline without specifying a model name and revision in production is not recommended.\n"
          ]
        },
        {
          "output_type": "execute_result",
          "data": {
            "text/plain": [
              "[{'label': 'POSITIVE', 'score': 0.9998745918273926}]"
            ]
          },
          "metadata": {},
          "execution_count": 27
        }
      ],
      "source": [
        "# toy example 1\n",
        "pipeline(task=\"sentiment-analysis\")(\"Love this!\")"
      ]
    },
    {
      "cell_type": "code",
      "execution_count": 28,
      "id": "2391e50c-f9d8-4891-b965-7af0e2fa239e",
      "metadata": {
        "colab": {
          "base_uri": "https://localhost:8080/"
        },
        "id": "2391e50c-f9d8-4891-b965-7af0e2fa239e",
        "outputId": "4a487f18-5adb-46db-9df7-7f554d022d42"
      },
      "outputs": [
        {
          "output_type": "execute_result",
          "data": {
            "text/plain": [
              "[{'label': 'POSITIVE', 'score': 0.9998745918273926}]"
            ]
          },
          "metadata": {},
          "execution_count": 28
        }
      ],
      "source": [
        "# toy example 2\n",
        "pipeline(task=\"sentiment-analysis\", model=\"distilbert-base-uncased-finetuned-sst-2-english\")(\"Love this!\")"
      ]
    },
    {
      "cell_type": "markdown",
      "id": "e712fbe6-e9d7-4346-933f-e250b846a0ff",
      "metadata": {
        "id": "e712fbe6-e9d7-4346-933f-e250b846a0ff"
      },
      "source": [
        "#### More Sentiment Analysis"
      ]
    },
    {
      "cell_type": "code",
      "execution_count": 29,
      "id": "cb83cab0-0718-47bb-8a19-240a065f2b8d",
      "metadata": {
        "id": "cb83cab0-0718-47bb-8a19-240a065f2b8d"
      },
      "outputs": [],
      "source": [
        "# defining classifier\n",
        "classifier = pipeline(task=\"sentiment-analysis\", model=\"distilbert-base-uncased-finetuned-sst-2-english\")"
      ]
    },
    {
      "cell_type": "code",
      "execution_count": 30,
      "id": "ab3948c2-aa59-4ec8-bbc0-6697a5898bc1",
      "metadata": {
        "colab": {
          "base_uri": "https://localhost:8080/"
        },
        "id": "ab3948c2-aa59-4ec8-bbc0-6697a5898bc1",
        "outputId": "c0b0f50c-207e-4b74-f72f-cdcb2635bc27"
      },
      "outputs": [
        {
          "output_type": "execute_result",
          "data": {
            "text/plain": [
              "[{'label': 'NEGATIVE', 'score': 0.9997110962867737}]"
            ]
          },
          "metadata": {},
          "execution_count": 30
        }
      ],
      "source": [
        "classifier(\"Hate this.\")"
      ]
    },
    {
      "cell_type": "code",
      "execution_count": 31,
      "id": "294e524d-9cbc-4e63-8f74-f7045564c2a0",
      "metadata": {
        "colab": {
          "base_uri": "https://localhost:8080/"
        },
        "id": "294e524d-9cbc-4e63-8f74-f7045564c2a0",
        "outputId": "d88c881d-416a-450a-d846-63fff471a7b4"
      },
      "outputs": [
        {
          "output_type": "execute_result",
          "data": {
            "text/plain": [
              "[{'label': 'POSITIVE', 'score': 0.9998785257339478},\n",
              " {'label': 'POSITIVE', 'score': 0.9680057168006897},\n",
              " {'label': 'NEGATIVE', 'score': 0.8776116371154785},\n",
              " {'label': 'POSITIVE', 'score': 0.9998120665550232}]"
            ]
          },
          "metadata": {},
          "execution_count": 31
        }
      ],
      "source": [
        "# we can also pass in a list to classifier\n",
        "text_list = [\"This is great\", \\\n",
        "             \"Thanks for nothing\", \\\n",
        "             \"You've got to work on your face\", \\\n",
        "             \"You're beautiful, never change!\"]\n",
        "\n",
        "classifier(text_list)"
      ]
    },
    {
      "cell_type": "code",
      "execution_count": 32,
      "id": "4dbf9541-093b-4eb2-9a28-2d6b96d49519",
      "metadata": {
        "id": "4dbf9541-093b-4eb2-9a28-2d6b96d49519"
      },
      "outputs": [],
      "source": [
        "# if there are multiple target labels, we can return them all\n",
        "classifier = pipeline(task=\"text-classification\", model=\"SamLowe/roberta-base-go_emotions\", top_k=None)"
      ]
    },
    {
      "cell_type": "code",
      "execution_count": 33,
      "id": "cd9e9143-5485-4cf0-b5f7-53c86e238bdc",
      "metadata": {
        "colab": {
          "base_uri": "https://localhost:8080/"
        },
        "id": "cd9e9143-5485-4cf0-b5f7-53c86e238bdc",
        "outputId": "a478ddc4-50c8-4a12-ad74-21ed56626a23"
      },
      "outputs": [
        {
          "output_type": "execute_result",
          "data": {
            "text/plain": [
              "[[{'label': 'admiration', 'score': 0.9526104927062988},\n",
              "  {'label': 'approval', 'score': 0.030472073704004288},\n",
              "  {'label': 'neutral', 'score': 0.015236238949000835},\n",
              "  {'label': 'excitement', 'score': 0.006063767243176699},\n",
              "  {'label': 'gratitude', 'score': 0.005296194460242987},\n",
              "  {'label': 'joy', 'score': 0.004475215449929237},\n",
              "  {'label': 'curiosity', 'score': 0.004322330001741648},\n",
              "  {'label': 'realization', 'score': 0.004089601803570986},\n",
              "  {'label': 'optimism', 'score': 0.00407722033560276},\n",
              "  {'label': 'disapproval', 'score': 0.004076560027897358},\n",
              "  {'label': 'annoyance', 'score': 0.0035287411883473396},\n",
              "  {'label': 'surprise', 'score': 0.0029730673413723707},\n",
              "  {'label': 'disappointment', 'score': 0.002734638284891844},\n",
              "  {'label': 'love', 'score': 0.00269457814283669},\n",
              "  {'label': 'amusement', 'score': 0.0024867462925612926},\n",
              "  {'label': 'confusion', 'score': 0.0023607409093528986},\n",
              "  {'label': 'pride', 'score': 0.0021013382356613874},\n",
              "  {'label': 'sadness', 'score': 0.0017730530817061663},\n",
              "  {'label': 'anger', 'score': 0.0017196922563016415},\n",
              "  {'label': 'caring', 'score': 0.0013670086627826095},\n",
              "  {'label': 'desire', 'score': 0.0010478721233084798},\n",
              "  {'label': 'disgust', 'score': 0.0009689942235127091},\n",
              "  {'label': 'fear', 'score': 0.0005249778041616082},\n",
              "  {'label': 'relief', 'score': 0.0004862115893047303},\n",
              "  {'label': 'embarrassment', 'score': 0.00034175071050412953},\n",
              "  {'label': 'grief', 'score': 0.0003389191988389939},\n",
              "  {'label': 'remorse', 'score': 0.0002780948707368225},\n",
              "  {'label': 'nervousness', 'score': 0.00020788486290257424}]]"
            ]
          },
          "metadata": {},
          "execution_count": 33
        }
      ],
      "source": [
        "classifier(text_list[0])"
      ]
    },
    {
      "cell_type": "markdown",
      "id": "1e3c7961-69ec-4a02-90a8-1530286f6bab",
      "metadata": {
        "id": "1e3c7961-69ec-4a02-90a8-1530286f6bab"
      },
      "source": [
        "#### Summarization"
      ]
    },
    {
      "cell_type": "code",
      "execution_count": 34,
      "id": "6d0b7060-fb04-40de-8d25-7edd8772d04a",
      "metadata": {
        "id": "6d0b7060-fb04-40de-8d25-7edd8772d04a"
      },
      "outputs": [],
      "source": [
        "summarizer = pipeline(\"summarization\", model=\"facebook/bart-large-cnn\")"
      ]
    },
    {
      "cell_type": "code",
      "execution_count": 35,
      "id": "cedeb7ee-c1ec-4e71-b31b-9db46ed56c80",
      "metadata": {
        "colab": {
          "base_uri": "https://localhost:8080/",
          "height": 52
        },
        "id": "cedeb7ee-c1ec-4e71-b31b-9db46ed56c80",
        "outputId": "b658e19a-9fa7-43c4-8e03-027350764bf4"
      },
      "outputs": [
        {
          "output_type": "execute_result",
          "data": {
            "text/plain": [
              "'Hugging Face is an AI company that has become a major hub for open-source machine learning. They have 3 major elements which allow users to access and share machine learning resources.'"
            ],
            "application/vnd.google.colaboratory.intrinsic+json": {
              "type": "string"
            }
          },
          "metadata": {},
          "execution_count": 35
        }
      ],
      "source": [
        "text = \"\"\"\n",
        "Hugging Face is an AI company that has become a major hub for open-source machine learning.\n",
        "Their platform has 3 major elements which allow users to access and share machine learning resources.\n",
        "First, is their rapidly growing repository of pre-trained open-source machine learning models for things such as natural language processing (NLP), computer vision, and more.\n",
        "Second, is their library of datasets for training machine learning models for almost any task.\n",
        "Third, and finally, is Spaces which is a collection of open-source ML apps.\n",
        "\n",
        "The power of these resources is that they are community generated, which leverages all the benefits of open source i.e. cost-free, wide diversity of tools, high quality resources, and rapid pace of innovation.\n",
        "While these make building powerful ML projects more accessible than before, there is another key element of the Hugging Face ecosystem—their Transformers library.\n",
        "\"\"\"\n",
        "summarized_text = summarizer(text, min_length=5, max_length=140)[0]['summary_text']\n",
        "summarized_text"
      ]
    },
    {
      "cell_type": "code",
      "execution_count": 36,
      "id": "d2e48ba3-b55b-46df-9d4e-717fb2726dad",
      "metadata": {
        "colab": {
          "base_uri": "https://localhost:8080/"
        },
        "id": "d2e48ba3-b55b-46df-9d4e-717fb2726dad",
        "outputId": "9b03f881-2b4d-41bd-c1e0-3e5a1c443738"
      },
      "outputs": [
        {
          "output_type": "execute_result",
          "data": {
            "text/plain": [
              "[[{'label': 'neutral', 'score': 0.9101784825325012},\n",
              "  {'label': 'approval', 'score': 0.08781356364488602},\n",
              "  {'label': 'realization', 'score': 0.02325625903904438},\n",
              "  {'label': 'annoyance', 'score': 0.006623796187341213},\n",
              "  {'label': 'admiration', 'score': 0.004981071222573519},\n",
              "  {'label': 'disapproval', 'score': 0.0047301193699240685},\n",
              "  {'label': 'optimism', 'score': 0.0033590728417038918},\n",
              "  {'label': 'disappointment', 'score': 0.002619007369503379},\n",
              "  {'label': 'confusion', 'score': 0.0019539804197847843},\n",
              "  {'label': 'excitement', 'score': 0.001241705846041441},\n",
              "  {'label': 'disgust', 'score': 0.0011407813290134072},\n",
              "  {'label': 'joy', 'score': 0.0010540124494582415},\n",
              "  {'label': 'amusement', 'score': 0.0009572388371452689},\n",
              "  {'label': 'love', 'score': 0.0008871055324561894},\n",
              "  {'label': 'desire', 'score': 0.0008553274674341083},\n",
              "  {'label': 'curiosity', 'score': 0.000826106930617243},\n",
              "  {'label': 'anger', 'score': 0.0007336385897360742},\n",
              "  {'label': 'caring', 'score': 0.0006971130496822298},\n",
              "  {'label': 'sadness', 'score': 0.0006702451501041651},\n",
              "  {'label': 'gratitude', 'score': 0.0006645714165642858},\n",
              "  {'label': 'surprise', 'score': 0.0005773783777840436},\n",
              "  {'label': 'relief', 'score': 0.00047890585847198963},\n",
              "  {'label': 'fear', 'score': 0.000451251253252849},\n",
              "  {'label': 'pride', 'score': 0.00035174345248378813},\n",
              "  {'label': 'embarrassment', 'score': 0.0003261527162976563},\n",
              "  {'label': 'remorse', 'score': 0.00019475817680358887},\n",
              "  {'label': 'nervousness', 'score': 0.00018521495803724974},\n",
              "  {'label': 'grief', 'score': 0.00016037889872677624}]]"
            ]
          },
          "metadata": {},
          "execution_count": 36
        }
      ],
      "source": [
        "classifier(summarized_text)"
      ]
    },
    {
      "cell_type": "markdown",
      "id": "b783e8c1-a1f6-4f3a-b539-e4e77063f390",
      "metadata": {
        "id": "b783e8c1-a1f6-4f3a-b539-e4e77063f390"
      },
      "source": [
        "#### Conversational"
      ]
    },
    {
      "cell_type": "code",
      "source": [
        "chatbot = pipeline(model=\"facebook/blenderbot-400M-distill\")"
      ],
      "metadata": {
        "id": "7S3winY_SLMn"
      },
      "id": "7S3winY_SLMn",
      "execution_count": 53,
      "outputs": []
    },
    {
      "cell_type": "code",
      "source": [
        "conversation = chatbot(\"Hi I'm Jyoti, how are you?\")"
      ],
      "metadata": {
        "colab": {
          "base_uri": "https://localhost:8080/"
        },
        "id": "JE0fKYGKSOkw",
        "outputId": "d2a614ec-8e61-4535-b564-a1a4578e42e9"
      },
      "id": "JE0fKYGKSOkw",
      "execution_count": 49,
      "outputs": [
        {
          "output_type": "stream",
          "name": "stderr",
          "text": [
            "Setting `pad_token_id` to `eos_token_id`:50256 for open-end generation.\n",
            "/usr/local/lib/python3.10/dist-packages/transformers/generation/utils.py:1369: UserWarning: Using `max_length`'s default (20) to control the generation length. This behaviour is deprecated and will be removed from the config in v5 of Transformers -- we recommend using `max_new_tokens` to control the maximum length of the generation.\n",
            "  warnings.warn(\n"
          ]
        }
      ]
    },
    {
      "cell_type": "markdown",
      "id": "94e6f7db-f09c-452a-97ee-2bc9c0b9707e",
      "metadata": {
        "id": "94e6f7db-f09c-452a-97ee-2bc9c0b9707e"
      },
      "source": [
        "### Deploy Chatbot UI"
      ]
    },
    {
      "cell_type": "markdown",
      "id": "51f53d0e-4ee3-416c-9abe-bd64bbde7433",
      "metadata": {
        "id": "51f53d0e-4ee3-416c-9abe-bd64bbde7433"
      },
      "source": [
        "#### Text Sentiment Chatbot"
      ]
    },
    {
      "cell_type": "code",
      "execution_count": 50,
      "id": "50498912-8ebb-4369-bd7b-c923eee4dd42",
      "metadata": {
        "colab": {
          "base_uri": "https://localhost:8080/",
          "height": 616
        },
        "id": "50498912-8ebb-4369-bd7b-c923eee4dd42",
        "outputId": "81d72b36-71f8-477b-b97c-76a318e71c64"
      },
      "outputs": [
        {
          "output_type": "stream",
          "name": "stdout",
          "text": [
            "Colab notebook detected. To show errors in colab notebook, set debug=True in launch()\n",
            "Note: opening Chrome Inspector may crash demo inside Colab notebooks.\n",
            "\n",
            "To create a public link, set `share=True` in `launch()`.\n"
          ]
        },
        {
          "output_type": "display_data",
          "data": {
            "text/plain": [
              "<IPython.core.display.Javascript object>"
            ],
            "application/javascript": [
              "(async (port, path, width, height, cache, element) => {\n",
              "                        if (!google.colab.kernel.accessAllowed && !cache) {\n",
              "                            return;\n",
              "                        }\n",
              "                        element.appendChild(document.createTextNode(''));\n",
              "                        const url = await google.colab.kernel.proxyPort(port, {cache});\n",
              "\n",
              "                        const external_link = document.createElement('div');\n",
              "                        external_link.innerHTML = `\n",
              "                            <div style=\"font-family: monospace; margin-bottom: 0.5rem\">\n",
              "                                Running on <a href=${new URL(path, url).toString()} target=\"_blank\">\n",
              "                                    https://localhost:${port}${path}\n",
              "                                </a>\n",
              "                            </div>\n",
              "                        `;\n",
              "                        element.appendChild(external_link);\n",
              "\n",
              "                        const iframe = document.createElement('iframe');\n",
              "                        iframe.src = new URL(path, url).toString();\n",
              "                        iframe.height = height;\n",
              "                        iframe.allow = \"autoplay; camera; microphone; clipboard-read; clipboard-write;\"\n",
              "                        iframe.width = width;\n",
              "                        iframe.style.border = 0;\n",
              "                        element.appendChild(iframe);\n",
              "                    })(7866, \"/\", \"100%\", 500, false, window.element)"
            ]
          },
          "metadata": {}
        },
        {
          "output_type": "execute_result",
          "data": {
            "text/plain": []
          },
          "metadata": {},
          "execution_count": 50
        }
      ],
      "source": [
        "def top3_text_classes(message, history):\n",
        "    return str(classifier(message)[0][:3]).replace('}, {', '\\n').replace('[{', '').replace('}]', '')\n",
        "\n",
        "demo_sentiment = gr.ChatInterface(top3_text_classes, title=\"Text Sentiment Chatbot\", description=\"Enter your text, and the chatbot will classify the sentiment.\")\n",
        "\n",
        "demo_sentiment.launch()"
      ]
    },
    {
      "cell_type": "markdown",
      "id": "88e64992-072b-4c6f-be95-7bbba7dfefe1",
      "metadata": {
        "id": "88e64992-072b-4c6f-be95-7bbba7dfefe1"
      },
      "source": [
        "#### Summarizer Chatbot"
      ]
    },
    {
      "cell_type": "code",
      "execution_count": 51,
      "id": "ebf5e2fb-9e5d-4756-aaee-c98c660b3294",
      "metadata": {
        "colab": {
          "base_uri": "https://localhost:8080/",
          "height": 616
        },
        "id": "ebf5e2fb-9e5d-4756-aaee-c98c660b3294",
        "outputId": "192ef5c3-f6fc-436f-b0e1-d1ad0da3d587"
      },
      "outputs": [
        {
          "output_type": "stream",
          "name": "stdout",
          "text": [
            "Colab notebook detected. To show errors in colab notebook, set debug=True in launch()\n",
            "Note: opening Chrome Inspector may crash demo inside Colab notebooks.\n",
            "\n",
            "To create a public link, set `share=True` in `launch()`.\n"
          ]
        },
        {
          "output_type": "display_data",
          "data": {
            "text/plain": [
              "<IPython.core.display.Javascript object>"
            ],
            "application/javascript": [
              "(async (port, path, width, height, cache, element) => {\n",
              "                        if (!google.colab.kernel.accessAllowed && !cache) {\n",
              "                            return;\n",
              "                        }\n",
              "                        element.appendChild(document.createTextNode(''));\n",
              "                        const url = await google.colab.kernel.proxyPort(port, {cache});\n",
              "\n",
              "                        const external_link = document.createElement('div');\n",
              "                        external_link.innerHTML = `\n",
              "                            <div style=\"font-family: monospace; margin-bottom: 0.5rem\">\n",
              "                                Running on <a href=${new URL(path, url).toString()} target=\"_blank\">\n",
              "                                    https://localhost:${port}${path}\n",
              "                                </a>\n",
              "                            </div>\n",
              "                        `;\n",
              "                        element.appendChild(external_link);\n",
              "\n",
              "                        const iframe = document.createElement('iframe');\n",
              "                        iframe.src = new URL(path, url).toString();\n",
              "                        iframe.height = height;\n",
              "                        iframe.allow = \"autoplay; camera; microphone; clipboard-read; clipboard-write;\"\n",
              "                        iframe.width = width;\n",
              "                        iframe.style.border = 0;\n",
              "                        element.appendChild(iframe);\n",
              "                    })(7867, \"/\", \"100%\", 500, false, window.element)"
            ]
          },
          "metadata": {}
        },
        {
          "output_type": "execute_result",
          "data": {
            "text/plain": []
          },
          "metadata": {},
          "execution_count": 51
        }
      ],
      "source": [
        "def summarizer_bot(message, history):\n",
        "    return summarizer(message, min_length=5, max_length=140)[0]['summary_text']\n",
        "\n",
        "demo_summarizer = gr.ChatInterface(summarizer_bot, title=\"Summarizer Chatbot\", description=\"Enter your text, and the chatbot will return the summarized version.\")\n",
        "\n",
        "demo_summarizer.launch()"
      ]
    },
    {
      "cell_type": "markdown",
      "id": "3a9759ba-9a81-40cb-87fe-d72939be5460",
      "metadata": {
        "id": "3a9759ba-9a81-40cb-87fe-d72939be5460"
      },
      "source": [
        "#### Vanilla Chatbot"
      ]
    },
    {
      "cell_type": "code",
      "execution_count": 52,
      "id": "507b9671-2035-4d3e-9385-931af3a69580",
      "metadata": {
        "colab": {
          "base_uri": "https://localhost:8080/",
          "height": 616
        },
        "id": "507b9671-2035-4d3e-9385-931af3a69580",
        "outputId": "66a78cdd-5b50-43c1-8801-39723b613421"
      },
      "outputs": [
        {
          "output_type": "stream",
          "name": "stdout",
          "text": [
            "Colab notebook detected. To show errors in colab notebook, set debug=True in launch()\n",
            "Note: opening Chrome Inspector may crash demo inside Colab notebooks.\n",
            "\n",
            "To create a public link, set `share=True` in `launch()`.\n"
          ]
        },
        {
          "output_type": "display_data",
          "data": {
            "text/plain": [
              "<IPython.core.display.Javascript object>"
            ],
            "application/javascript": [
              "(async (port, path, width, height, cache, element) => {\n",
              "                        if (!google.colab.kernel.accessAllowed && !cache) {\n",
              "                            return;\n",
              "                        }\n",
              "                        element.appendChild(document.createTextNode(''));\n",
              "                        const url = await google.colab.kernel.proxyPort(port, {cache});\n",
              "\n",
              "                        const external_link = document.createElement('div');\n",
              "                        external_link.innerHTML = `\n",
              "                            <div style=\"font-family: monospace; margin-bottom: 0.5rem\">\n",
              "                                Running on <a href=${new URL(path, url).toString()} target=\"_blank\">\n",
              "                                    https://localhost:${port}${path}\n",
              "                                </a>\n",
              "                            </div>\n",
              "                        `;\n",
              "                        element.appendChild(external_link);\n",
              "\n",
              "                        const iframe = document.createElement('iframe');\n",
              "                        iframe.src = new URL(path, url).toString();\n",
              "                        iframe.height = height;\n",
              "                        iframe.allow = \"autoplay; camera; microphone; clipboard-read; clipboard-write;\"\n",
              "                        iframe.width = width;\n",
              "                        iframe.style.border = 0;\n",
              "                        element.appendChild(iframe);\n",
              "                    })(7868, \"/\", \"100%\", 500, false, window.element)"
            ]
          },
          "metadata": {}
        },
        {
          "output_type": "execute_result",
          "data": {
            "text/plain": []
          },
          "metadata": {},
          "execution_count": 52
        }
      ],
      "source": [
        "message_list = []\n",
        "response_list = []\n",
        "\n",
        "def vanilla_chatbot(message, history):\n",
        "    conversation = chatbot(message)\n",
        "\n",
        "    return conversation[0]['generated_text']\n",
        "\n",
        "demo_chatbot = gr.ChatInterface(vanilla_chatbot, title=\"Vanilla Chatbot\", description=\"Enter text to start chatting.\")\n",
        "\n",
        "demo_chatbot.launch()"
      ]
    }
  ],
  "metadata": {
    "kernelspec": {
      "display_name": "Python 3 (ipykernel)",
      "language": "python",
      "name": "python3"
    },
    "language_info": {
      "codemirror_mode": {
        "name": "ipython",
        "version": 3
      },
      "file_extension": ".py",
      "mimetype": "text/x-python",
      "name": "python",
      "nbconvert_exporter": "python",
      "pygments_lexer": "ipython3",
      "version": "3.10.12"
    },
    "colab": {
      "provenance": []
    }
  },
  "nbformat": 4,
  "nbformat_minor": 5
}